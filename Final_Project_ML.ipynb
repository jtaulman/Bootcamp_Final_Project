{
 "cells": [
  {
   "cell_type": "markdown",
   "id": "99d6ee7f",
   "metadata": {},
   "source": [
    "# Softmax Activation Function"
   ]
  },
  {
   "cell_type": "code",
   "execution_count": 1,
   "id": "7d10721c",
   "metadata": {},
   "outputs": [],
   "source": [
    "import pandas as pd\n",
    "from pathlib import Path\n",
    "import numpy as np\n",
    "from numpy import exp\n",
    "from math import exp\n",
    "from scipy.special import softmax\n",
    "from keras.models import Sequential\n",
    "from keras.layers import Dense,Activation\n",
    "from sklearn.model_selection import train_test_split"
   ]
  },
  {
   "cell_type": "code",
   "execution_count": 2,
   "id": "8ecb0fed",
   "metadata": {},
   "outputs": [],
   "source": [
    "model = Sequential()"
   ]
  },
  {
   "cell_type": "code",
   "execution_count": 3,
   "id": "7cdf0750",
   "metadata": {},
   "outputs": [],
   "source": [
    "#input_dim is amount of columns, can mess around with units\n",
    "model.add(Dense(units=64, input_dim=4, activation=\"relu\"))"
   ]
  },
  {
   "cell_type": "code",
   "execution_count": 4,
   "id": "d231d363",
   "metadata": {},
   "outputs": [],
   "source": [
    "model.add(Dense(units=32, input_dim=64, activation=\"relu\"))"
   ]
  },
  {
   "cell_type": "code",
   "execution_count": 5,
   "id": "d64dfadb",
   "metadata": {},
   "outputs": [],
   "source": [
    "#units are amount of outputs wanted\n",
    "model.add(Dense(units=5, input_dim=32, activation=\"softmax\"))"
   ]
  },
  {
   "cell_type": "code",
   "execution_count": 6,
   "id": "cdc9b88d",
   "metadata": {},
   "outputs": [],
   "source": [
    "model.compile(loss=\"categorical_crossentropy\", optimizer=\"sgd\", metrics=[\"accuracy\"])"
   ]
  },
  {
   "cell_type": "code",
   "execution_count": 7,
   "id": "77ad80f5",
   "metadata": {},
   "outputs": [
    {
     "name": "stdout",
     "output_type": "stream",
     "text": [
      "Model: \"sequential\"\n",
      "_________________________________________________________________\n",
      " Layer (type)                Output Shape              Param #   \n",
      "=================================================================\n",
      " dense (Dense)               (None, 64)                320       \n",
      "                                                                 \n",
      " dense_1 (Dense)             (None, 32)                2080      \n",
      "                                                                 \n",
      " dense_2 (Dense)             (None, 5)                 165       \n",
      "                                                                 \n",
      "=================================================================\n",
      "Total params: 2,565\n",
      "Trainable params: 2,565\n",
      "Non-trainable params: 0\n",
      "_________________________________________________________________\n"
     ]
    }
   ],
   "source": [
    "model.summary()"
   ]
  },
  {
   "cell_type": "code",
   "execution_count": 8,
   "id": "f82ddab5",
   "metadata": {},
   "outputs": [],
   "source": [
    "#Split into X and Y columns I am dropping are output columns and columns that I am not using\n",
    "#X = DF.drop(columns to drop)"
   ]
  },
  {
   "cell_type": "code",
   "execution_count": 9,
   "id": "8b36b2b6",
   "metadata": {},
   "outputs": [],
   "source": [
    "#Y = DF[[columns I am predicting]]"
   ]
  },
  {
   "cell_type": "code",
   "execution_count": 10,
   "id": "310a7ca7",
   "metadata": {},
   "outputs": [],
   "source": [
    "#X_train, X_test, Y_train, Y_test = train_test_split(X, Y)"
   ]
  },
  {
   "cell_type": "code",
   "execution_count": 11,
   "id": "515145ae",
   "metadata": {},
   "outputs": [],
   "source": [
    "#model.train(X_train, Y_train)"
   ]
  },
  {
   "cell_type": "code",
   "execution_count": 12,
   "id": "1982cd77",
   "metadata": {},
   "outputs": [],
   "source": [
    "#model.score(X_test, Y_test)"
   ]
  },
  {
   "cell_type": "code",
   "execution_count": null,
   "id": "4a2724cb",
   "metadata": {},
   "outputs": [],
   "source": []
  },
  {
   "cell_type": "code",
   "execution_count": null,
   "id": "425e8774",
   "metadata": {},
   "outputs": [],
   "source": []
  },
  {
   "cell_type": "code",
   "execution_count": null,
   "id": "2be58b16",
   "metadata": {},
   "outputs": [],
   "source": []
  },
  {
   "cell_type": "code",
   "execution_count": null,
   "id": "328c6ee3",
   "metadata": {},
   "outputs": [],
   "source": []
  },
  {
   "cell_type": "code",
   "execution_count": null,
   "id": "bfaa3d4d",
   "metadata": {},
   "outputs": [],
   "source": []
  },
  {
   "cell_type": "code",
   "execution_count": 13,
   "id": "438e66a6",
   "metadata": {},
   "outputs": [],
   "source": [
    "#baseball_df = pd.read_csv(Path('../Resources/'))\n",
    "#baseball_df.head()"
   ]
  },
  {
   "cell_type": "code",
   "execution_count": 14,
   "id": "44811de7",
   "metadata": {},
   "outputs": [],
   "source": [
    "#Query that runs slow because table is not indexed well, primary keys and foreign keys, Joins, Case statements\n",
    "#Basic questions for Pandas and R\n",
    "#Class implementations"
   ]
  },
  {
   "cell_type": "code",
   "execution_count": 15,
   "id": "65af69cf",
   "metadata": {},
   "outputs": [],
   "source": [
    "#4 output nodes for each class (single, double, triple, other)\n",
    "#probabilities for each adding to 1\n",
    "#single constant input is hardest pitch\n",
    "#3+ layers, 1 = input, 2 = work, 3 = output\n",
    "#hidden layers are layers in the middle"
   ]
  }
 ],
 "metadata": {
  "kernelspec": {
   "display_name": "mlenv",
   "language": "python",
   "name": "mlenv"
  },
  "language_info": {
   "codemirror_mode": {
    "name": "ipython",
    "version": 3
   },
   "file_extension": ".py",
   "mimetype": "text/x-python",
   "name": "python",
   "nbconvert_exporter": "python",
   "pygments_lexer": "ipython3",
   "version": "3.10.4"
  }
 },
 "nbformat": 4,
 "nbformat_minor": 5
}
