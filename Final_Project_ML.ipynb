{
 "cells": [
  {
   "cell_type": "markdown",
   "id": "d0ddfe3e",
   "metadata": {},
   "source": [
    "# Softmax Activation Function"
   ]
  },
  {
   "cell_type": "code",
   "execution_count": 1,
   "id": "28c98e78",
   "metadata": {},
   "outputs": [],
   "source": [
    "import pandas as pd\n",
    "from pathlib import Path\n",
    "import numpy as np\n",
    "from scipy.special import softmax\n",
    "from keras.models import Sequential, load_model\n",
    "from keras.layers import Dense,Activation\n",
    "import keras.metrics\n",
    "from sklearn.model_selection import train_test_split"
   ]
  },
  {
   "cell_type": "code",
   "execution_count": 2,
   "id": "e0c3bdb9",
   "metadata": {},
   "outputs": [
    {
     "data": {
      "text/html": [
       "<div>\n",
       "<style scoped>\n",
       "    .dataframe tbody tr th:only-of-type {\n",
       "        vertical-align: middle;\n",
       "    }\n",
       "\n",
       "    .dataframe tbody tr th {\n",
       "        vertical-align: top;\n",
       "    }\n",
       "\n",
       "    .dataframe thead th {\n",
       "        text-align: right;\n",
       "    }\n",
       "</style>\n",
       "<table border=\"1\" class=\"dataframe\">\n",
       "  <thead>\n",
       "    <tr style=\"text-align: right;\">\n",
       "      <th></th>\n",
       "      <th>pitch_typeab</th>\n",
       "      <th>pitch_typech</th>\n",
       "      <th>pitch_typecu</th>\n",
       "      <th>pitch_typeep</th>\n",
       "      <th>pitch_typefa</th>\n",
       "      <th>pitch_typefc</th>\n",
       "      <th>pitch_typeff</th>\n",
       "      <th>pitch_typefo</th>\n",
       "      <th>pitch_typefs</th>\n",
       "      <th>pitch_typeft</th>\n",
       "      <th>...</th>\n",
       "      <th>event_Runner Out</th>\n",
       "      <th>event_Sac Bunt</th>\n",
       "      <th>event_Sac Fly</th>\n",
       "      <th>event_Sac Fly DP</th>\n",
       "      <th>event_Sacrifice Bunt DP</th>\n",
       "      <th>event_Single</th>\n",
       "      <th>event_Strikeout</th>\n",
       "      <th>event_Triple</th>\n",
       "      <th>event_Triple Play</th>\n",
       "      <th>event_Walk</th>\n",
       "    </tr>\n",
       "  </thead>\n",
       "  <tbody>\n",
       "    <tr>\n",
       "      <th>0</th>\n",
       "      <td>0</td>\n",
       "      <td>1</td>\n",
       "      <td>0</td>\n",
       "      <td>0</td>\n",
       "      <td>0</td>\n",
       "      <td>0</td>\n",
       "      <td>0</td>\n",
       "      <td>0</td>\n",
       "      <td>0</td>\n",
       "      <td>0</td>\n",
       "      <td>...</td>\n",
       "      <td>0</td>\n",
       "      <td>0</td>\n",
       "      <td>0</td>\n",
       "      <td>0</td>\n",
       "      <td>0</td>\n",
       "      <td>0</td>\n",
       "      <td>1</td>\n",
       "      <td>0</td>\n",
       "      <td>0</td>\n",
       "      <td>0</td>\n",
       "    </tr>\n",
       "    <tr>\n",
       "      <th>1</th>\n",
       "      <td>0</td>\n",
       "      <td>0</td>\n",
       "      <td>1</td>\n",
       "      <td>0</td>\n",
       "      <td>0</td>\n",
       "      <td>0</td>\n",
       "      <td>0</td>\n",
       "      <td>0</td>\n",
       "      <td>0</td>\n",
       "      <td>0</td>\n",
       "      <td>...</td>\n",
       "      <td>0</td>\n",
       "      <td>0</td>\n",
       "      <td>0</td>\n",
       "      <td>0</td>\n",
       "      <td>0</td>\n",
       "      <td>0</td>\n",
       "      <td>1</td>\n",
       "      <td>0</td>\n",
       "      <td>0</td>\n",
       "      <td>0</td>\n",
       "    </tr>\n",
       "    <tr>\n",
       "      <th>2</th>\n",
       "      <td>0</td>\n",
       "      <td>0</td>\n",
       "      <td>0</td>\n",
       "      <td>0</td>\n",
       "      <td>0</td>\n",
       "      <td>0</td>\n",
       "      <td>0</td>\n",
       "      <td>0</td>\n",
       "      <td>0</td>\n",
       "      <td>0</td>\n",
       "      <td>...</td>\n",
       "      <td>0</td>\n",
       "      <td>0</td>\n",
       "      <td>0</td>\n",
       "      <td>0</td>\n",
       "      <td>0</td>\n",
       "      <td>0</td>\n",
       "      <td>1</td>\n",
       "      <td>0</td>\n",
       "      <td>0</td>\n",
       "      <td>0</td>\n",
       "    </tr>\n",
       "    <tr>\n",
       "      <th>3</th>\n",
       "      <td>0</td>\n",
       "      <td>0</td>\n",
       "      <td>0</td>\n",
       "      <td>0</td>\n",
       "      <td>0</td>\n",
       "      <td>0</td>\n",
       "      <td>0</td>\n",
       "      <td>0</td>\n",
       "      <td>0</td>\n",
       "      <td>0</td>\n",
       "      <td>...</td>\n",
       "      <td>0</td>\n",
       "      <td>0</td>\n",
       "      <td>0</td>\n",
       "      <td>0</td>\n",
       "      <td>0</td>\n",
       "      <td>0</td>\n",
       "      <td>0</td>\n",
       "      <td>0</td>\n",
       "      <td>0</td>\n",
       "      <td>0</td>\n",
       "    </tr>\n",
       "    <tr>\n",
       "      <th>4</th>\n",
       "      <td>0</td>\n",
       "      <td>0</td>\n",
       "      <td>0</td>\n",
       "      <td>0</td>\n",
       "      <td>0</td>\n",
       "      <td>0</td>\n",
       "      <td>1</td>\n",
       "      <td>0</td>\n",
       "      <td>0</td>\n",
       "      <td>0</td>\n",
       "      <td>...</td>\n",
       "      <td>0</td>\n",
       "      <td>0</td>\n",
       "      <td>0</td>\n",
       "      <td>0</td>\n",
       "      <td>0</td>\n",
       "      <td>0</td>\n",
       "      <td>0</td>\n",
       "      <td>0</td>\n",
       "      <td>0</td>\n",
       "      <td>0</td>\n",
       "    </tr>\n",
       "  </tbody>\n",
       "</table>\n",
       "<p>5 rows × 45 columns</p>\n",
       "</div>"
      ],
      "text/plain": [
       "   pitch_typeab  pitch_typech  pitch_typecu  pitch_typeep  pitch_typefa  \\\n",
       "0             0             1             0             0             0   \n",
       "1             0             0             1             0             0   \n",
       "2             0             0             0             0             0   \n",
       "3             0             0             0             0             0   \n",
       "4             0             0             0             0             0   \n",
       "\n",
       "   pitch_typefc  pitch_typeff  pitch_typefo  pitch_typefs  pitch_typeft  ...  \\\n",
       "0             0             0             0             0             0  ...   \n",
       "1             0             0             0             0             0  ...   \n",
       "2             0             0             0             0             0  ...   \n",
       "3             0             0             0             0             0  ...   \n",
       "4             0             1             0             0             0  ...   \n",
       "\n",
       "   event_Runner Out  event_Sac Bunt  event_Sac Fly  event_Sac Fly DP  \\\n",
       "0                 0               0              0                 0   \n",
       "1                 0               0              0                 0   \n",
       "2                 0               0              0                 0   \n",
       "3                 0               0              0                 0   \n",
       "4                 0               0              0                 0   \n",
       "\n",
       "   event_Sacrifice Bunt DP  event_Single  event_Strikeout  event_Triple  \\\n",
       "0                        0             0                1             0   \n",
       "1                        0             0                1             0   \n",
       "2                        0             0                1             0   \n",
       "3                        0             0                0             0   \n",
       "4                        0             0                0             0   \n",
       "\n",
       "   event_Triple Play  event_Walk  \n",
       "0                  0           0  \n",
       "1                  0           0  \n",
       "2                  0           0  \n",
       "3                  0           0  \n",
       "4                  0           0  \n",
       "\n",
       "[5 rows x 45 columns]"
      ]
     },
     "execution_count": 2,
     "metadata": {},
     "output_type": "execute_result"
    }
   ],
   "source": [
    "baseball_df = pd.read_csv(Path('Resources/baseball.csv'))\n",
    "baseball_df.head()"
   ]
  },
  {
   "cell_type": "code",
   "execution_count": 3,
   "id": "756f9f7c",
   "metadata": {},
   "outputs": [
    {
     "data": {
      "text/plain": [
       "Index(['pitch_typeab', 'pitch_typech', 'pitch_typecu', 'pitch_typeep',\n",
       "       'pitch_typefa', 'pitch_typefc', 'pitch_typeff', 'pitch_typefo',\n",
       "       'pitch_typefs', 'pitch_typeft', 'pitch_typein', 'pitch_typekc',\n",
       "       'pitch_typekn', 'pitch_typepo', 'pitch_typesc', 'pitch_typesi',\n",
       "       'pitch_typesl', 'pitch_typeun', 'event_Batter Interference',\n",
       "       'event_Bunt Pop Out', 'event_Catcher Interference', 'event_Double',\n",
       "       'event_Double Play', 'event_Field Error', 'event_Fielders Choice',\n",
       "       'event_Fielders Choice Out', 'event_Flyout', 'event_Forceout',\n",
       "       'event_Grounded Into DP', 'event_Groundout', 'event_Hit By Pitch',\n",
       "       'event_Home Run', 'event_Intent Walk', 'event_Lineout', 'event_Pop Out',\n",
       "       'event_Runner Out', 'event_Sac Bunt', 'event_Sac Fly',\n",
       "       'event_Sac Fly DP', 'event_Sacrifice Bunt DP', 'event_Single',\n",
       "       'event_Strikeout', 'event_Triple', 'event_Triple Play', 'event_Walk'],\n",
       "      dtype='object')"
      ]
     },
     "execution_count": 3,
     "metadata": {},
     "output_type": "execute_result"
    }
   ],
   "source": [
    "baseball_df.columns"
   ]
  },
  {
   "cell_type": "code",
   "execution_count": 4,
   "id": "0620ce87",
   "metadata": {},
   "outputs": [],
   "source": [
    "baseball_df = baseball_df.loc[(baseball_df[['event_Single', 'event_Double', 'event_Triple', 'event_Home Run']] != 0).any(axis=1)]"
   ]
  },
  {
   "cell_type": "code",
   "execution_count": 5,
   "id": "f3b81160",
   "metadata": {},
   "outputs": [],
   "source": [
    "model = Sequential()"
   ]
  },
  {
   "cell_type": "code",
   "execution_count": 6,
   "id": "df179b7b",
   "metadata": {},
   "outputs": [],
   "source": [
    "#input_dim is amount of columns, can mess around with units\n",
    "model.add(Dense(units=64, input_dim=18, activation=\"relu\"))"
   ]
  },
  {
   "cell_type": "code",
   "execution_count": 7,
   "id": "8a258f5c",
   "metadata": {},
   "outputs": [],
   "source": [
    "model.add(Dense(units=32, input_dim=64, activation=\"relu\"))"
   ]
  },
  {
   "cell_type": "code",
   "execution_count": 8,
   "id": "10c5e240",
   "metadata": {},
   "outputs": [],
   "source": [
    "#units are amount of outputs wanted\n",
    "model.add(Dense(units=4, input_dim=32, activation=\"softmax\"))"
   ]
  },
  {
   "cell_type": "code",
   "execution_count": 9,
   "id": "57da93bb",
   "metadata": {},
   "outputs": [],
   "source": [
    "model.compile(loss=\"categorical_crossentropy\", optimizer=\"sgd\", metrics=['accuracy'])"
   ]
  },
  {
   "cell_type": "code",
   "execution_count": 10,
   "id": "29b46174",
   "metadata": {},
   "outputs": [
    {
     "name": "stdout",
     "output_type": "stream",
     "text": [
      "Model: \"sequential\"\n",
      "_________________________________________________________________\n",
      " Layer (type)                Output Shape              Param #   \n",
      "=================================================================\n",
      " dense (Dense)               (None, 64)                1216      \n",
      "                                                                 \n",
      " dense_1 (Dense)             (None, 32)                2080      \n",
      "                                                                 \n",
      " dense_2 (Dense)             (None, 4)                 132       \n",
      "                                                                 \n",
      "=================================================================\n",
      "Total params: 3,428\n",
      "Trainable params: 3,428\n",
      "Non-trainable params: 0\n",
      "_________________________________________________________________\n"
     ]
    }
   ],
   "source": [
    "model.summary()"
   ]
  },
  {
   "cell_type": "code",
   "execution_count": 11,
   "id": "3ee098c3",
   "metadata": {},
   "outputs": [],
   "source": [
    "#Split into X and Y columns I am dropping are output columns and columns that I am not using\n",
    "X = baseball_df[['pitch_typeab', 'pitch_typech', 'pitch_typecu', 'pitch_typeep', 'pitch_typefa', 'pitch_typefc', 'pitch_typeff', 'pitch_typefo', 'pitch_typefs', 'pitch_typeft', 'pitch_typein', 'pitch_typekc', 'pitch_typekn', 'pitch_typepo', 'pitch_typesc', 'pitch_typesi', 'pitch_typesl', 'pitch_typeun']]"
   ]
  },
  {
   "cell_type": "code",
   "execution_count": 12,
   "id": "a5c499ab",
   "metadata": {},
   "outputs": [],
   "source": [
    "Y = baseball_df[['event_Single', 'event_Double', 'event_Triple', 'event_Home Run']]"
   ]
  },
  {
   "cell_type": "code",
   "execution_count": 13,
   "id": "9689fe4f",
   "metadata": {},
   "outputs": [],
   "source": [
    "X_train, X_test, Y_train, Y_test = train_test_split(X, Y)"
   ]
  },
  {
   "cell_type": "code",
   "execution_count": 14,
   "id": "56843466",
   "metadata": {},
   "outputs": [
    {
     "name": "stdout",
     "output_type": "stream",
     "text": [
      "Epoch 1/5\n",
      "15643/15643 [==============================] - 25s 2ms/step - loss: 0.9365 - accuracy: 0.6607\n",
      "Epoch 2/5\n",
      "15643/15643 [==============================] - 19s 1ms/step - loss: 0.9333 - accuracy: 0.6615\n",
      "Epoch 3/5\n",
      "15643/15643 [==============================] - 21s 1ms/step - loss: 0.9332 - accuracy: 0.6615\n",
      "Epoch 4/5\n",
      "15643/15643 [==============================] - 17s 1ms/step - loss: 0.9331 - accuracy: 0.6615\n",
      "Epoch 5/5\n",
      "15643/15643 [==============================] - 17s 1ms/step - loss: 0.9331 - accuracy: 0.6615\n"
     ]
    },
    {
     "data": {
      "text/plain": [
       "<keras.callbacks.History at 0x17e197391b0>"
      ]
     },
     "execution_count": 14,
     "metadata": {},
     "output_type": "execute_result"
    }
   ],
   "source": [
    "model.fit(X_train, Y_train, epochs=5, batch_size=10)"
   ]
  },
  {
   "cell_type": "code",
   "execution_count": 15,
   "id": "b5822a6a",
   "metadata": {},
   "outputs": [
    {
     "name": "stdout",
     "output_type": "stream",
     "text": [
      "1630/1630 [==============================] - 2s 1ms/step - loss: 0.9297 - accuracy: 0.6618\n"
     ]
    },
    {
     "data": {
      "text/plain": [
       "[0.9296906590461731, 0.6618016362190247]"
      ]
     },
     "execution_count": 15,
     "metadata": {},
     "output_type": "execute_result"
    }
   ],
   "source": [
    "model.evaluate(X_test, Y_test)"
   ]
  },
  {
   "cell_type": "code",
   "execution_count": 16,
   "id": "98b5e64f",
   "metadata": {},
   "outputs": [],
   "source": [
    "# X = [[0,0,0,0,0,0,0,0,0,0,0,0,0,0,1,0,0,0]]"
   ]
  },
  {
   "cell_type": "code",
   "execution_count": 17,
   "id": "fff38950",
   "metadata": {},
   "outputs": [],
   "source": [
    "# model.predict(X)"
   ]
  },
  {
   "cell_type": "code",
   "execution_count": 18,
   "id": "0cb002ef",
   "metadata": {},
   "outputs": [],
   "source": [
    "model.save(\"Baseball.h5\")"
   ]
  }
 ],
 "metadata": {
  "kernelspec": {
   "display_name": "mlenv",
   "language": "python",
   "name": "mlenv"
  },
  "language_info": {
   "codemirror_mode": {
    "name": "ipython",
    "version": 3
   },
   "file_extension": ".py",
   "mimetype": "text/x-python",
   "name": "python",
   "nbconvert_exporter": "python",
   "pygments_lexer": "ipython3",
   "version": "3.10.4"
  }
 },
 "nbformat": 4,
 "nbformat_minor": 5
}
