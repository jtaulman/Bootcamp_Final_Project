{
 "cells": [
  {
   "cell_type": "markdown",
   "id": "d0ddfe3e",
   "metadata": {},
   "source": [
    "# Softmax Activation Function"
   ]
  },
  {
   "cell_type": "code",
   "execution_count": 1,
   "id": "28c98e78",
   "metadata": {},
   "outputs": [],
   "source": [
    "import pandas as pd\n",
    "from pathlib import Path\n",
    "import numpy as np\n",
    "from numpy import exp\n",
    "from math import exp\n",
    "from scipy.special import softmax\n",
    "from keras.models import Sequential\n",
    "from keras.layers import Dense,Activation\n",
    "from sklearn.model_selection import train_test_split"
   ]
  },
  {
   "cell_type": "code",
   "execution_count": 2,
   "id": "f3b81160",
   "metadata": {},
   "outputs": [],
   "source": [
    "model = Sequential()"
   ]
  },
  {
   "cell_type": "code",
   "execution_count": 3,
   "id": "df179b7b",
   "metadata": {},
   "outputs": [],
   "source": [
    "#input_dim is amount of columns, can mess around with units\n",
    "model.add(Dense(units=64, input_dim=4, activation=\"relu\"))"
   ]
  },
  {
   "cell_type": "code",
   "execution_count": 4,
   "id": "8a258f5c",
   "metadata": {},
   "outputs": [],
   "source": [
    "model.add(Dense(units=32, input_dim=64, activation=\"relu\"))"
   ]
  },
  {
   "cell_type": "code",
   "execution_count": 5,
   "id": "10c5e240",
   "metadata": {},
   "outputs": [],
   "source": [
    "#units are amount of outputs wanted\n",
    "model.add(Dense(units=5, input_dim=32, activation=\"softmax\"))"
   ]
  },
  {
   "cell_type": "code",
   "execution_count": 6,
   "id": "57da93bb",
   "metadata": {},
   "outputs": [],
   "source": [
    "model.compile(loss=\"categorical_crossentropy\", optimizer=\"sgd\", metrics=[\"accuracy\"])"
   ]
  },
  {
   "cell_type": "code",
   "execution_count": 7,
   "id": "29b46174",
   "metadata": {},
   "outputs": [
    {
     "name": "stdout",
     "output_type": "stream",
     "text": [
      "Model: \"sequential\"\n",
      "_________________________________________________________________\n",
      " Layer (type)                Output Shape              Param #   \n",
      "=================================================================\n",
      " dense (Dense)               (None, 64)                320       \n",
      "                                                                 \n",
      " dense_1 (Dense)             (None, 32)                2080      \n",
      "                                                                 \n",
      " dense_2 (Dense)             (None, 5)                 165       \n",
      "                                                                 \n",
      "=================================================================\n",
      "Total params: 2,565\n",
      "Trainable params: 2,565\n",
      "Non-trainable params: 0\n",
      "_________________________________________________________________\n"
     ]
    }
   ],
   "source": [
    "model.summary()"
   ]
  },
  {
   "cell_type": "code",
   "execution_count": 8,
   "id": "3ee098c3",
   "metadata": {},
   "outputs": [],
   "source": [
    "#Split into X and Y columns I am dropping are output columns and columns that I am not using\n",
    "#X = DF.drop(columns to drop)"
   ]
  },
  {
   "cell_type": "code",
   "execution_count": 9,
   "id": "a5c499ab",
   "metadata": {},
   "outputs": [],
   "source": [
    "#Y = DF[[columns I am predicting]]"
   ]
  },
  {
   "cell_type": "code",
   "execution_count": 10,
   "id": "9689fe4f",
   "metadata": {},
   "outputs": [],
   "source": [
    "#X_train, X_test, Y_train, Y_test = train_test_split(X, Y)"
   ]
  },
  {
   "cell_type": "code",
   "execution_count": 11,
   "id": "56843466",
   "metadata": {},
   "outputs": [],
   "source": [
    "#model.train(X_train, Y_train)"
   ]
  },
  {
   "cell_type": "code",
   "execution_count": 12,
   "id": "b5822a6a",
   "metadata": {},
   "outputs": [],
   "source": [
    "#model.score(X_test, Y_test)"
   ]
  },
  {
   "cell_type": "code",
   "execution_count": 13,
   "id": "e0c3bdb9",
   "metadata": {},
   "outputs": [],
   "source": [
    "#baseball_df = pd.read_csv(Path('../Resources/'))\n",
    "#baseball_df.head()"
   ]
  },
  {
   "cell_type": "code",
   "execution_count": null,
   "id": "0cb002ef",
   "metadata": {},
   "outputs": [],
   "source": []
  }
 ],
 "metadata": {
  "kernelspec": {
   "display_name": "mlenv",
   "language": "python",
   "name": "mlenv"
  },
  "language_info": {
   "codemirror_mode": {
    "name": "ipython",
    "version": 3
   },
   "file_extension": ".py",
   "mimetype": "text/x-python",
   "name": "python",
   "nbconvert_exporter": "python",
   "pygments_lexer": "ipython3",
   "version": "3.10.4"
  }
 },
 "nbformat": 4,
 "nbformat_minor": 5
}
